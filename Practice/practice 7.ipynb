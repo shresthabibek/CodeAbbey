{
 "cells": [
  {
   "cell_type": "code",
   "execution_count": 1,
   "metadata": {
    "collapsed": false
   },
   "outputs": [
    {
     "name": "stdout",
     "output_type": "stream",
     "text": [
      "4776385\n",
      "-5293481\n",
      "-7697375\n",
      "-8113540\n",
      "-5616508\n",
      "-8531953\n",
      "-4147402\n",
      "-8617803\n",
      "-9449965\n",
      "1544839\n",
      "-6541821\n",
      "-8915523\n",
      "-6012195\n",
      "-7472592\n",
      "-267175\n",
      "-9779501\n",
      "-5072982\n",
      "-7169941\n",
      "-5283482\n",
      "1613134\n",
      "-6645115\n",
      "3081181\n",
      "-792518\n",
      "5347232\n",
      "-853038\n",
      "-1333724\n",
      "870359\n",
      "-7157749\n",
      "-8424206\n"
     ]
    }
   ],
   "source": [
    "array = [\n",
    "[4776385 ,7184586],\n",
    "[-5293481 ,8320848],\n",
    "[1657700 ,-7697375],\n",
    "[-8113540 ,5223726],\n",
    "[-5616508 ,9429862],\n",
    "[-794500 ,-8531953],\n",
    "[-181344 ,-4147402],\n",
    "[-6891241 ,-8617803],\n",
    "[-966439 ,-9449965],\n",
    "[3799729 ,1544839],\n",
    "[1926302 ,-6541821],\n",
    "[-8915523 ,4175974],\n",
    "[8858096 ,-6012195],\n",
    "[8733543 ,-7472592],\n",
    "[-267175 ,83371],\n",
    "[-9779501 ,-5490790],\n",
    "[-2732042 ,-5072982],\n",
    "[-7169941 ,8925658],\n",
    "[-2770357 ,-5283482],\n",
    "[4149384 ,1613134],\n",
    "[-5853620 ,-6645115],\n",
    "[3081181 ,3965035],\n",
    "[-792518, 6189939],\n",
    "[5347232 ,8241043],\n",
    "[6739974, -853038],\n",
    "[-214118 ,-1333724],\n",
    "[2605140 ,870359],\n",
    "[-7157749 ,1463237],\n",
    "[4858163 ,-8424206]\n",
    "]\n",
    "\n",
    "for i in range(len(array)):\n",
    "    if array[i][0]<array[i][1]:\n",
    "        print (array[i][0])\n",
    "    else:\n",
    "        print (array[i][1])"
   ]
  },
  {
   "cell_type": "code",
   "execution_count": 2,
   "metadata": {
    "collapsed": false
   },
   "outputs": [
    {
     "name": "stdout",
     "output_type": "stream",
     "text": [
      "1021411\n",
      "1003511\n",
      "1657033\n",
      "385710\n",
      "1666523\n",
      "1505793\n",
      "623382\n",
      "959767\n",
      "826707\n",
      "1628859\n",
      "186211\n",
      "984308\n"
     ]
    }
   ],
   "source": [
    "array = [\n",
    "[425121, 596290],\n",
    "[321772 ,681739],\n",
    "[871859, 785174],\n",
    "[94871 ,290839],\n",
    "[734481 ,932042],\n",
    "[589006, 916787],\n",
    "[322602, 300780],\n",
    "[603791 ,355976],\n",
    "[660650 ,166057],\n",
    "[653780 ,975079],\n",
    "[17494 ,168717],\n",
    "[885490 ,98818]\n",
    "]\n",
    "\n",
    "for i in range(len(array)):\n",
    "    sum = array[i][0]  + array[i][1]\n",
    "    print (sum)"
   ]
  },
  {
   "cell_type": "code",
   "execution_count": 3,
   "metadata": {
    "collapsed": false
   },
   "outputs": [
    {
     "data": {
      "text/plain": [
       "'hello'"
      ]
     },
     "execution_count": 3,
     "metadata": {},
     "output_type": "execute_result"
    }
   ],
   "source": [
    "\"hello\""
   ]
  },
  {
   "cell_type": "code",
   "execution_count": 4,
   "metadata": {
    "collapsed": false
   },
   "outputs": [
    {
     "data": {
      "text/plain": [
       "[1]"
      ]
     },
     "execution_count": 4,
     "metadata": {},
     "output_type": "execute_result"
    }
   ],
   "source": [
    "[1]"
   ]
  },
  {
   "cell_type": "code",
   "execution_count": 5,
   "metadata": {
    "collapsed": true
   },
   "outputs": [],
   "source": [
    "s = 'hello'"
   ]
  },
  {
   "cell_type": "code",
   "execution_count": 6,
   "metadata": {
    "collapsed": false
   },
   "outputs": [
    {
     "data": {
      "text/plain": [
       "'e'"
      ]
     },
     "execution_count": 6,
     "metadata": {},
     "output_type": "execute_result"
    }
   ],
   "source": [
    "s[1]"
   ]
  },
  {
   "cell_type": "code",
   "execution_count": 7,
   "metadata": {
    "collapsed": false
   },
   "outputs": [
    {
     "data": {
      "text/plain": [
       "'ell'"
      ]
     },
     "execution_count": 7,
     "metadata": {},
     "output_type": "execute_result"
    }
   ],
   "source": [
    "s[1:-1]"
   ]
  },
  {
   "cell_type": "code",
   "execution_count": 8,
   "metadata": {
    "collapsed": false
   },
   "outputs": [
    {
     "data": {
      "text/plain": [
       "'hello'"
      ]
     },
     "execution_count": 8,
     "metadata": {},
     "output_type": "execute_result"
    }
   ],
   "source": [
    "s[:]"
   ]
  },
  {
   "cell_type": "code",
   "execution_count": 9,
   "metadata": {
    "collapsed": false
   },
   "outputs": [
    {
     "data": {
      "text/plain": [
       "'olleh'"
      ]
     },
     "execution_count": 9,
     "metadata": {},
     "output_type": "execute_result"
    }
   ],
   "source": [
    "s[::-1]"
   ]
  }
 ],
 "metadata": {
  "kernelspec": {
   "display_name": "Python 3",
   "language": "python",
   "name": "python3"
  },
  "language_info": {
   "codemirror_mode": {
    "name": "ipython",
    "version": 3
   },
   "file_extension": ".py",
   "mimetype": "text/x-python",
   "name": "python",
   "nbconvert_exporter": "python",
   "pygments_lexer": "ipython3",
   "version": "3.6.0"
  }
 },
 "nbformat": 4,
 "nbformat_minor": 2
}
