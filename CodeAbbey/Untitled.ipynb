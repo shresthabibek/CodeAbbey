{
 "cells": [
  {
   "cell_type": "code",
   "execution_count": 1,
   "metadata": {
    "collapsed": false
   },
   "outputs": [
    {
     "name": "stdout",
     "output_type": "stream",
     "text": [
      "1021411\n",
      "1003511\n",
      "1657033\n",
      "385710\n",
      "1666523\n",
      "1505793\n",
      "623382\n",
      "959767\n",
      "826707\n",
      "1628859\n",
      "186211\n",
      "984308\n"
     ]
    }
   ],
   "source": [
    "array = [\n",
    "[425121, 596290],\n",
    "[321772 ,681739],\n",
    "[871859, 785174],\n",
    "[94871 ,290839],\n",
    "[734481 ,932042],\n",
    "[589006, 916787],\n",
    "[322602, 300780],\n",
    "[603791 ,355976],\n",
    "[660650 ,166057],\n",
    "[653780 ,975079],\n",
    "[17494 ,168717],\n",
    "[885490 ,98818]\n",
    "]\n",
    "\n",
    "for i in range(len(array)):\n",
    "    sum = array[i][0]  + array[i][1]\n",
    "    print (sum)"
   ]
  }
 ],
 "metadata": {
  "kernelspec": {
   "display_name": "Python 3",
   "language": "python",
   "name": "python3"
  },
  "language_info": {
   "codemirror_mode": {
    "name": "ipython",
    "version": 3
   },
   "file_extension": ".py",
   "mimetype": "text/x-python",
   "name": "python",
   "nbconvert_exporter": "python",
   "pygments_lexer": "ipython3",
   "version": "3.6.0"
  }
 },
 "nbformat": 4,
 "nbformat_minor": 2
}
