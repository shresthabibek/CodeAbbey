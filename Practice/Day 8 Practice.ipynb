{
 "cells": [
  {
   "cell_type": "markdown",
   "metadata": {},
   "source": [
    "a year is a leap year if its number is exactly divisible by 4 and is not exactly divisible by 100\n",
    "\n",
    "a year is always a leap year if its number is exactly divisible by 400"
   ]
  },
  {
   "cell_type": "code",
   "execution_count": 9,
   "metadata": {
    "collapsed": false
   },
   "outputs": [
    {
     "name": "stdout",
     "output_type": "stream",
     "text": [
      "2015\n",
      "COMMON\n"
     ]
    }
   ],
   "source": [
    "year = int(input())\n",
    "if year % 400 ==0:\n",
    "    print(\"LEAP\")\n",
    "elif year % 4 ==0 and year % 100 !=0:\n",
    "    print(\"LEAP\")\n",
    "else:\n",
    "    print(\"COMMON\")"
   ]
  },
  {
   "cell_type": "markdown",
   "metadata": {},
   "source": [
    "Given three integers. Determine how many of them are equal to each other.\n",
    "\n",
    "The program must print one of the numbers: 3 (if all are same),\n",
    "\n",
    "2 (if two of them are equal to each other and the third is different)\n",
    "\n",
    "or 0 (if all numbers are different)."
   ]
  },
  {
   "cell_type": "code",
   "execution_count": 10,
   "metadata": {
    "collapsed": false
   },
   "outputs": [
    {
     "name": "stdout",
     "output_type": "stream",
     "text": [
      "5\n",
      "5\n",
      "4\n",
      "2\n"
     ]
    }
   ],
   "source": [
    "a = int(input())\n",
    "b = int(input())\n",
    "c = int(input())\n",
    "if a==b==c:\n",
    "    print(\"3\")\n",
    "elif a==b!=c:\n",
    "    print(\"2\")\n",
    "else:\n",
    "    print(\"0\")"
   ]
  },
  {
   "cell_type": "code",
   "execution_count": null,
   "metadata": {
    "collapsed": false
   },
   "outputs": [
    {
     "name": "stdout",
     "output_type": "stream",
     "text": [
      "Let's play !\n",
      "Rock breaks Scissor, Scissor cuts a Paper and Paper covers Rock\n",
      "Enter either rock, paper or scissor:  rock\n",
      "Computer = scissor\n",
      "You = rock\n",
      "You win !, Play Again\n",
      "Enter either rock, paper or scissor:  scissor4\n",
      "Computer = paper\n",
      "You = scissor4\n",
      "You Lost !, Play Again\n",
      "Enter either rock, paper or scissor:  scissor\n",
      "Computer = scissor\n",
      "You = scissor\n",
      "Tie !, Wanna try again.\n"
     ]
    }
   ],
   "source": [
    "# A simple rock, paper, scissor game\n",
    "\n",
    "print (\"Let's play !\")\n",
    "print (\"Rock breaks Scissor, Scissor cuts a Paper and Paper covers Rock\")\n",
    "\n",
    "import random\n",
    "def check_winner():\n",
    "    while True:\n",
    "        call = input(\"Enter either rock, paper or scissor:  \").lower()    \n",
    "        choice = random.choice(['rock','paper','scissor'])\n",
    "        print (\"Computer = \"+ choice)\n",
    "        print (\"You = \"+ call)\n",
    "        if call  == choice:\n",
    "            print (\"Tie !, Wanna try again.\")\n",
    "        else:\n",
    "            if call == 'rock' and choice == 'scissor':\n",
    "                print (\"You win !, Play Again\")\n",
    "            elif call == 'scissor' and choice == 'paper':\n",
    "                print (\"You win !, Play Again\")\n",
    "            elif call == 'paper' and choice == 'rock':\n",
    "                print (\"You win !, Play Again\")\n",
    "            else:\n",
    "                print (\"You Lost !, Play Again\")\n",
    "            \n",
    "check_winner()"
   ]
  }
 ],
 "metadata": {
  "kernelspec": {
   "display_name": "Python 3",
   "language": "python",
   "name": "python3"
  },
  "language_info": {
   "codemirror_mode": {
    "name": "ipython",
    "version": 3
   },
   "file_extension": ".py",
   "mimetype": "text/x-python",
   "name": "python",
   "nbconvert_exporter": "python",
   "pygments_lexer": "ipython3",
   "version": "3.6.0"
  }
 },
 "nbformat": 4,
 "nbformat_minor": 2
}
